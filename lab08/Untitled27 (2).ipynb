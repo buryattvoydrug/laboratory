{
 "cells": [
  {
   "cell_type": "code",
   "execution_count": 4,
   "metadata": {},
   "outputs": [],
   "source": [
    "import string\n",
    "import random\n",
    "txt3='НаВашисходящийот1204'\n",
    "txt4='ВСеверныйфилиалБанка'\n",
    "def generator(length,abc):\n",
    "    return ''.join(random.choice(abc) for i in range(length)) \n",
    "abc=string.ascii_letters.join(string.digits)\n",
    "key=generator(len(txt3),abc)"
   ]
  },
  {
   "cell_type": "code",
   "execution_count": 5,
   "metadata": {},
   "outputs": [],
   "source": [
    "def gamm(string,key):\n",
    "    return ''.join(chr(n^m) for n,m in zip ([ord(i) for i in string ],[ord(i) for i in key]))"
   ]
  },
  {
   "cell_type": "code",
   "execution_count": 31,
   "metadata": {},
   "outputs": [],
   "source": [
    "c1=gamm(txt3,key) #зашифрованный ключом key текст txt3\n",
    "c2=gamm(txt4,key) #зашифрованный ключом key текст txt3"
   ]
  },
  {
   "cell_type": "code",
   "execution_count": 32,
   "metadata": {},
   "outputs": [
    {
     "data": {
      "text/plain": [
       "'ВСеверныйфилиалБанка'"
      ]
     },
     "execution_count": 32,
     "metadata": {},
     "output_type": "execute_result"
    }
   ],
   "source": [
    "c1c2=gamm(c1,c2)\n",
    "gamm(c1c2,txt3) #c1⊕c2⊕p1=p2 без ключа зная p1"
   ]
  },
  {
   "cell_type": "code",
   "execution_count": 38,
   "metadata": {},
   "outputs": [
    {
     "data": {
      "text/plain": [
       "'НаВашисходящийот1204'"
      ]
     },
     "execution_count": 38,
     "metadata": {},
     "output_type": "execute_result"
    }
   ],
   "source": [
    "gamm(c1c2,txt4) #c1⊕c2⊕p2=p1 без ключа зная p2"
   ]
  },
  {
   "cell_type": "markdown",
   "metadata": {},
   "source": [
    "Чтобы прочитать оба текста зная только c1 и с2, необходимо решить систему относительно p1 и p2\n",
    "\n",
    "c1⊕c2⊕p1=p2\n",
    "\n",
    "c1⊕c2⊕p2=p1"
   ]
  },
  {
   "cell_type": "code",
   "execution_count": null,
   "metadata": {},
   "outputs": [],
   "source": []
  }
 ],
 "metadata": {
  "kernelspec": {
   "display_name": "Python 3",
   "language": "python",
   "name": "python3"
  },
  "language_info": {
   "codemirror_mode": {
    "name": "ipython",
    "version": 3
   },
   "file_extension": ".py",
   "mimetype": "text/x-python",
   "name": "python",
   "nbconvert_exporter": "python",
   "pygments_lexer": "ipython3",
   "version": "3.8.3"
  }
 },
 "nbformat": 4,
 "nbformat_minor": 4
}
